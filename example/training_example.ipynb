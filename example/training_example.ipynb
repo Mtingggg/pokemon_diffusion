{
 "cells": [
  {
   "cell_type": "code",
   "execution_count": null,
   "id": "29680c10",
   "metadata": {},
   "outputs": [],
   "source": [
    "import torch\n",
    "import torch.nn.functional as F\n",
    "import torch.optim as optim\n",
    "from torch.utils.data import DataLoader\n",
    "from torchvision import transforms\n",
    "\n",
    "from src.unet_model import Unet\n",
    "from src.ddim import DDIM\n",
    "from src.ddpm import DDPM\n",
    "from src.pokemon_dataset import PokemonDataset"
   ]
  },
  {
   "cell_type": "code",
   "execution_count": null,
   "id": "b0633914",
   "metadata": {},
   "outputs": [],
   "source": [
    "# set device to cpu or cuda or mps\n",
    "if torch.backends.mps.is_available():\n",
    "    device = torch.device('mps') \n",
    "    print(\"Device set to : mps\")\n",
    "elif(torch.cuda.is_available()): \n",
    "    device = torch.device('cuda:0') \n",
    "    torch.cuda.empty_cache()\n",
    "    print(\"Device set to : \" + str(torch.cuda.get_device_name(device)))\n",
    "else:\n",
    "    device = torch.device('cpu')\n",
    "    print(\"Device set to : cpu\")"
   ]
  },
  {
   "cell_type": "code",
   "execution_count": null,
   "id": "fdcccaee",
   "metadata": {},
   "outputs": [],
   "source": [
    "IMG_SIZE=64\n",
    "transform = transforms.Compose([\n",
    "        transforms.ToTensor(), # from [0,255] to range [0.0,1.0]\n",
    "        transforms.Resize((IMG_SIZE, IMG_SIZE), antialias=True),\n",
    "        transforms.RandomHorizontalFlip(),\n",
    "        transforms.Lambda(lambda t: (t * 2) - 1) # Scale between [-1, 1] \n",
    "])"
   ]
  },
  {
   "cell_type": "code",
   "execution_count": null,
   "id": "c28509b3",
   "metadata": {},
   "outputs": [],
   "source": [
    "dataset = PokemonDataset(\n",
    "    imgs_path='./data/pokemon_jpg',\n",
    "    data_path='./data/pokemon_stats.csv',\n",
    "    transform=transform\n",
    "    )"
   ]
  },
  {
   "cell_type": "code",
   "execution_count": null,
   "id": "ae1340d8",
   "metadata": {},
   "outputs": [],
   "source": [
    "dataloader = DataLoader(dataset, batch_size=32, shuffle=True, drop_last=False)"
   ]
  },
  {
   "cell_type": "code",
   "execution_count": null,
   "id": "9791005b",
   "metadata": {},
   "outputs": [],
   "source": [
    "beta_start = 1e-4\n",
    "beta_end = 0.02\n",
    "time_step = 500\n",
    "\n",
    "lr = 0.0002 #1e-3\n",
    "epochs = 500\n",
    "save_epoch = 50\n",
    "save_dir = './weights/'\n",
    "model_name = 'test'"
   ]
  },
  {
   "cell_type": "code",
   "execution_count": null,
   "id": "d3b42617",
   "metadata": {},
   "outputs": [],
   "source": [
    "unet = Unet(\n",
    "    image_channels = 3, \n",
    "    down_channels  = [64, 128, 256, 512], \n",
    "    up_channels = [512, 256, 128, 64], \n",
    "    out_dim = 64, \n",
    "    time_emb_dim = 32, \n",
    "    context_dim = 18\n",
    "   ).to(device)\n",
    "ddpm = DDPM(beta_start, beta_end, time_step, device)\n",
    "optimizer = optim.Adam(unet.parameters(), lr=lr)"
   ]
  },
  {
   "cell_type": "code",
   "execution_count": null,
   "id": "1f51bb06",
   "metadata": {
    "scrolled": true
   },
   "outputs": [],
   "source": [
    "for epoch in range(0, epochs+1):\n",
    "    for step, batch in enumerate(dataloader):\n",
    "        imgs, contexts = batch[0].to(device), batch[1].to(device)\n",
    "        batch_size = len(imgs)        \n",
    "        t = torch.randint(0, time_step, (batch_size,), device=device).long()\n",
    "        \n",
    "        noise_imgs, noise = ddpm.add_noise(imgs, t)\n",
    "        pred_noise = unet(noise_imgs, t, contexts)\n",
    "        \n",
    "        optimizer.zero_grad()\n",
    "        # loss is mean squared error between the predicted and true noise\n",
    "        loss = F.mse_loss(pred_noise, noise)\n",
    "        loss.backward()\n",
    "        optimizer.step()\n",
    "        print(f\"Epoch {epoch} | step {step+1:03d}/{len(dataloader)} Loss: {loss.item()}\")\n",
    "        \n",
    "        with torch.no_grad():\n",
    "            if epoch % 5 == 0 and step == 0:\n",
    "                ddpm.sample(unet, 3, 64, 18, time_step, 40, plot=True)\n",
    "    \n",
    "    # save model periodically\n",
    "    if epoch%save_epoch==0:\n",
    "        if not os.path.exists(save_dir):\n",
    "            os.mkdir(save_dir)\n",
    "        torch.save(unet.state_dict(), os.path.join(save_dir, f\"{model_name}_{epoch}.pth\"))\n",
    "        print('saved model at ' + os.path.join(save_dir, f\"{model_name}_{epoch}.pth\"))"
   ]
  },
  {
   "cell_type": "code",
   "execution_count": null,
   "id": "966fc041",
   "metadata": {},
   "outputs": [],
   "source": []
  },
  {
   "cell_type": "code",
   "execution_count": null,
   "id": "e77d10c9",
   "metadata": {},
   "outputs": [],
   "source": []
  },
  {
   "cell_type": "code",
   "execution_count": null,
   "id": "84044fba",
   "metadata": {},
   "outputs": [],
   "source": []
  },
  {
   "cell_type": "code",
   "execution_count": null,
   "id": "093d97ff",
   "metadata": {},
   "outputs": [],
   "source": []
  }
 ],
 "metadata": {
  "kernelspec": {
   "display_name": "Python 3 (ipykernel)",
   "language": "python",
   "name": "python3"
  },
  "language_info": {
   "codemirror_mode": {
    "name": "ipython",
    "version": 3
   },
   "file_extension": ".py",
   "mimetype": "text/x-python",
   "name": "python",
   "nbconvert_exporter": "python",
   "pygments_lexer": "ipython3",
   "version": "3.9.7"
  }
 },
 "nbformat": 4,
 "nbformat_minor": 5
}
